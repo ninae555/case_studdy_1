{
 "cells": [
  {
   "cell_type": "code",
   "execution_count": 11,
   "metadata": {},
   "outputs": [
    {
     "name": "stderr",
     "output_type": "stream",
     "text": [
      "/var/folders/62/zwkvsc2d3tngnd336zgb5n3m0000gn/T/ipykernel_60672/351968131.py:5: DtypeWarning: Columns (12,13) have mixed types. Specify dtype option on import or set low_memory=False.\n",
      "  data = pd.read_csv(f, delimiter='\\t', on_bad_lines='warn')\n"
     ]
    },
    {
     "name": "stdout",
     "output_type": "stream",
     "text": [
      "   CENSUS_CHAPTER  CENSUS_TABLE  CENSUS_ROW  CENSUS_COLUMN SECTOR_DESC  \\\n",
      "0               1             1           1              1   ECONOMICS   \n",
      "1               1             1           1              1   ECONOMICS   \n",
      "2               1             1           1              1   ECONOMICS   \n",
      "3               1             1           1              1   ECONOMICS   \n",
      "4               1             1           1              1   ECONOMICS   \n",
      "\n",
      "                               SHORT_DESC   COMMODITY_DESC AGG_LEVEL_DESC  \\\n",
      "0  FARM OPERATIONS - NUMBER OF OPERATIONS  FARM OPERATIONS       NATIONAL   \n",
      "1  FARM OPERATIONS - NUMBER OF OPERATIONS  FARM OPERATIONS          STATE   \n",
      "2  FARM OPERATIONS - NUMBER OF OPERATIONS  FARM OPERATIONS          STATE   \n",
      "3  FARM OPERATIONS - NUMBER OF OPERATIONS  FARM OPERATIONS          STATE   \n",
      "4  FARM OPERATIONS - NUMBER OF OPERATIONS  FARM OPERATIONS          STATE   \n",
      "\n",
      "   STATE_FIPS_CODE STATE_ALPHA STATE_NAME  COUNTY_CODE COUNTY_NAME  \\\n",
      "0               99          US   US TOTAL          NaN         NaN   \n",
      "1                1          AL    ALABAMA          NaN         NaN   \n",
      "2                2          AK     ALASKA          NaN         NaN   \n",
      "3                4          AZ    ARIZONA          NaN         NaN   \n",
      "4                5          AR   ARKANSAS          NaN         NaN   \n",
      "\n",
      "  DOMAINCAT_DESC      VALUE  \n",
      "0            NaN  2,042,220  \n",
      "1            NaN     40,592  \n",
      "2            NaN        990  \n",
      "3            NaN     19,086  \n",
      "4            NaN     42,625  \n"
     ]
    }
   ],
   "source": [
    "import pandas as pd\n",
    "import gzip\n",
    "\n",
    "with gzip.open('/Users/admin/Documents/case_studdy_1/2017_cdqt_data.txt.gz', 'rt') as f:\n",
    "    data = pd.read_csv(f, delimiter='\\t', on_bad_lines='warn')\n",
    "\n",
    "print(data.head())\n"
   ]
  },
  {
   "cell_type": "code",
   "execution_count": 18,
   "metadata": {},
   "outputs": [
    {
     "name": "stdout",
     "output_type": "stream",
     "text": [
      "  Contiguous U.S. Palmer Drought Severity Index (PDSI)\n",
      "0                             Base Period: 1901-2000  \n",
      "1                                       Missing: -99  \n",
      "2                                 Date,Value,Anomaly  \n",
      "3                                 201701,-0.91,-1.39  \n",
      "4                                 201702,-0.92,-1.42  \n"
     ]
    }
   ],
   "source": [
    "# Specify data types for the columns (change column names and data types accordingly)\n",
    "data_types = {\n",
    "    'CENSUS_CHAPTER': int,\n",
    "    'CENSUS_TABLE': int,\n",
    "    'CENSUS_ROW': int,\n",
    "    'CENSUS_COLUMN': int,\n",
    "    'SECTOR_DESC': str,\n",
    "    'SHORT_DESC': str,\n",
    "    'COMMODITY_DESC': str,\n",
    "    'AGG_LEVEL_DESC': str,\n",
    "    'STATE_FIPS_CODE': int,\n",
    "    'STATE_ALPHA': str,\n",
    "    'STATE_NAME': str,\n",
    "    'COUNTY_CODE': float,\n",
    "    'COUNTY_NAME': str,\n",
    "    'DOMAINCAT_DESC': str,\n",
    "    'VALUE': str  # Assuming the 'VALUE' column contains numerical values in string format\n",
    "}\n",
    "\n",
    "# Read the CSV file with specified data types and low_memory=False\n",
    "df = pd.read_csv('/Users/admin/Documents/case_studdy_1/data.csv', delimiter='\\t', dtype=data_types)\n",
    "\n",
    "print(df.head())"
   ]
  }
 ],
 "metadata": {
  "kernelspec": {
   "display_name": "Python 3",
   "language": "python",
   "name": "python3"
  },
  "language_info": {
   "codemirror_mode": {
    "name": "ipython",
    "version": 3
   },
   "file_extension": ".py",
   "mimetype": "text/x-python",
   "name": "python",
   "nbconvert_exporter": "python",
   "pygments_lexer": "ipython3",
   "version": "3.11.0"
  },
  "orig_nbformat": 4
 },
 "nbformat": 4,
 "nbformat_minor": 2
}
