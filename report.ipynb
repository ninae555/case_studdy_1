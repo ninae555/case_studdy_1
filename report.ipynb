{
 "cells": [
  {
   "cell_type": "markdown",
   "metadata": {},
   "source": [
    "### Data Preprocessing"
   ]
  },
  {
   "cell_type": "code",
   "execution_count": 46,
   "metadata": {},
   "outputs": [
    {
     "name": "stdout",
     "output_type": "stream",
     "text": [
      "Requirement already satisfied: tabulate in /Users/admin/.pyenv/versions/3.11.0/lib/python3.11/site-packages (0.9.0)\n",
      "\n",
      "\u001b[1m[\u001b[0m\u001b[34;49mnotice\u001b[0m\u001b[1;39;49m]\u001b[0m\u001b[39;49m A new release of pip is available: \u001b[0m\u001b[31;49m23.1.2\u001b[0m\u001b[39;49m -> \u001b[0m\u001b[32;49m23.2.1\u001b[0m\n",
      "\u001b[1m[\u001b[0m\u001b[34;49mnotice\u001b[0m\u001b[1;39;49m]\u001b[0m\u001b[39;49m To update, run: \u001b[0m\u001b[32;49mpip install --upgrade pip\u001b[0m\n",
      "Requirement already satisfied: tensorflow in /Users/admin/.pyenv/versions/3.11.0/lib/python3.11/site-packages (2.13.0)\n",
      "Requirement already satisfied: absl-py>=1.0.0 in /Users/admin/.pyenv/versions/3.11.0/lib/python3.11/site-packages (from tensorflow) (1.4.0)\n",
      "Requirement already satisfied: astunparse>=1.6.0 in /Users/admin/.pyenv/versions/3.11.0/lib/python3.11/site-packages (from tensorflow) (1.6.3)\n",
      "Requirement already satisfied: flatbuffers>=23.1.21 in /Users/admin/.pyenv/versions/3.11.0/lib/python3.11/site-packages (from tensorflow) (23.5.26)\n",
      "Requirement already satisfied: gast<=0.4.0,>=0.2.1 in /Users/admin/.pyenv/versions/3.11.0/lib/python3.11/site-packages (from tensorflow) (0.4.0)\n",
      "Requirement already satisfied: google-pasta>=0.1.1 in /Users/admin/.pyenv/versions/3.11.0/lib/python3.11/site-packages (from tensorflow) (0.2.0)\n",
      "Requirement already satisfied: h5py>=2.9.0 in /Users/admin/.pyenv/versions/3.11.0/lib/python3.11/site-packages (from tensorflow) (3.9.0)\n",
      "Requirement already satisfied: libclang>=13.0.0 in /Users/admin/.pyenv/versions/3.11.0/lib/python3.11/site-packages (from tensorflow) (16.0.6)\n",
      "Requirement already satisfied: numpy<=1.24.3,>=1.22 in /Users/admin/.pyenv/versions/3.11.0/lib/python3.11/site-packages (from tensorflow) (1.24.3)\n",
      "Requirement already satisfied: opt-einsum>=2.3.2 in /Users/admin/.pyenv/versions/3.11.0/lib/python3.11/site-packages (from tensorflow) (3.3.0)\n",
      "Requirement already satisfied: packaging in /Users/admin/.pyenv/versions/3.11.0/lib/python3.11/site-packages (from tensorflow) (23.1)\n",
      "Requirement already satisfied: protobuf!=4.21.0,!=4.21.1,!=4.21.2,!=4.21.3,!=4.21.4,!=4.21.5,<5.0.0dev,>=3.20.3 in /Users/admin/.pyenv/versions/3.11.0/lib/python3.11/site-packages (from tensorflow) (4.23.4)\n",
      "Requirement already satisfied: setuptools in /Users/admin/.pyenv/versions/3.11.0/lib/python3.11/site-packages (from tensorflow) (65.5.0)\n",
      "Requirement already satisfied: six>=1.12.0 in /Users/admin/.pyenv/versions/3.11.0/lib/python3.11/site-packages (from tensorflow) (1.16.0)\n",
      "Requirement already satisfied: termcolor>=1.1.0 in /Users/admin/.pyenv/versions/3.11.0/lib/python3.11/site-packages (from tensorflow) (2.3.0)\n",
      "Requirement already satisfied: typing-extensions<4.6.0,>=3.6.6 in /Users/admin/.pyenv/versions/3.11.0/lib/python3.11/site-packages (from tensorflow) (4.5.0)\n",
      "Requirement already satisfied: wrapt>=1.11.0 in /Users/admin/.pyenv/versions/3.11.0/lib/python3.11/site-packages (from tensorflow) (1.15.0)\n",
      "Requirement already satisfied: grpcio<2.0,>=1.24.3 in /Users/admin/.pyenv/versions/3.11.0/lib/python3.11/site-packages (from tensorflow) (1.56.2)\n",
      "Requirement already satisfied: tensorboard<2.14,>=2.13 in /Users/admin/.pyenv/versions/3.11.0/lib/python3.11/site-packages (from tensorflow) (2.13.0)\n",
      "Requirement already satisfied: tensorflow-estimator<2.14,>=2.13.0 in /Users/admin/.pyenv/versions/3.11.0/lib/python3.11/site-packages (from tensorflow) (2.13.0)\n",
      "Requirement already satisfied: keras<2.14,>=2.13.1 in /Users/admin/.pyenv/versions/3.11.0/lib/python3.11/site-packages (from tensorflow) (2.13.1)\n",
      "Requirement already satisfied: tensorflow-io-gcs-filesystem>=0.23.1 in /Users/admin/.pyenv/versions/3.11.0/lib/python3.11/site-packages (from tensorflow) (0.32.0)\n",
      "Requirement already satisfied: wheel<1.0,>=0.23.0 in /Users/admin/.pyenv/versions/3.11.0/lib/python3.11/site-packages (from astunparse>=1.6.0->tensorflow) (0.41.0)\n",
      "Requirement already satisfied: google-auth<3,>=1.6.3 in /Users/admin/.pyenv/versions/3.11.0/lib/python3.11/site-packages (from tensorboard<2.14,>=2.13->tensorflow) (2.22.0)\n",
      "Requirement already satisfied: google-auth-oauthlib<1.1,>=0.5 in /Users/admin/.pyenv/versions/3.11.0/lib/python3.11/site-packages (from tensorboard<2.14,>=2.13->tensorflow) (1.0.0)\n",
      "Requirement already satisfied: markdown>=2.6.8 in /Users/admin/.pyenv/versions/3.11.0/lib/python3.11/site-packages (from tensorboard<2.14,>=2.13->tensorflow) (3.4.4)\n",
      "Requirement already satisfied: requests<3,>=2.21.0 in /Users/admin/.pyenv/versions/3.11.0/lib/python3.11/site-packages (from tensorboard<2.14,>=2.13->tensorflow) (2.31.0)\n",
      "Requirement already satisfied: tensorboard-data-server<0.8.0,>=0.7.0 in /Users/admin/.pyenv/versions/3.11.0/lib/python3.11/site-packages (from tensorboard<2.14,>=2.13->tensorflow) (0.7.1)\n",
      "Requirement already satisfied: werkzeug>=1.0.1 in /Users/admin/.pyenv/versions/3.11.0/lib/python3.11/site-packages (from tensorboard<2.14,>=2.13->tensorflow) (2.2.3)\n",
      "Requirement already satisfied: cachetools<6.0,>=2.0.0 in /Users/admin/.pyenv/versions/3.11.0/lib/python3.11/site-packages (from google-auth<3,>=1.6.3->tensorboard<2.14,>=2.13->tensorflow) (5.3.1)\n",
      "Requirement already satisfied: pyasn1-modules>=0.2.1 in /Users/admin/.pyenv/versions/3.11.0/lib/python3.11/site-packages (from google-auth<3,>=1.6.3->tensorboard<2.14,>=2.13->tensorflow) (0.3.0)\n",
      "Requirement already satisfied: rsa<5,>=3.1.4 in /Users/admin/.local/lib/python3.11/site-packages (from google-auth<3,>=1.6.3->tensorboard<2.14,>=2.13->tensorflow) (4.7.2)\n",
      "Requirement already satisfied: urllib3<2.0 in /Users/admin/.local/lib/python3.11/site-packages (from google-auth<3,>=1.6.3->tensorboard<2.14,>=2.13->tensorflow) (1.26.16)\n",
      "Requirement already satisfied: requests-oauthlib>=0.7.0 in /Users/admin/.pyenv/versions/3.11.0/lib/python3.11/site-packages (from google-auth-oauthlib<1.1,>=0.5->tensorboard<2.14,>=2.13->tensorflow) (1.3.1)\n",
      "Requirement already satisfied: charset-normalizer<4,>=2 in /Users/admin/.pyenv/versions/3.11.0/lib/python3.11/site-packages (from requests<3,>=2.21.0->tensorboard<2.14,>=2.13->tensorflow) (3.1.0)\n",
      "Requirement already satisfied: idna<4,>=2.5 in /Users/admin/.pyenv/versions/3.11.0/lib/python3.11/site-packages (from requests<3,>=2.21.0->tensorboard<2.14,>=2.13->tensorflow) (3.4)\n",
      "Requirement already satisfied: certifi>=2017.4.17 in /Users/admin/.pyenv/versions/3.11.0/lib/python3.11/site-packages (from requests<3,>=2.21.0->tensorboard<2.14,>=2.13->tensorflow) (2023.5.7)\n",
      "Requirement already satisfied: MarkupSafe>=2.1.1 in /Users/admin/.pyenv/versions/3.11.0/lib/python3.11/site-packages (from werkzeug>=1.0.1->tensorboard<2.14,>=2.13->tensorflow) (2.1.3)\n",
      "Requirement already satisfied: pyasn1<0.6.0,>=0.4.6 in /Users/admin/.local/lib/python3.11/site-packages (from pyasn1-modules>=0.2.1->google-auth<3,>=1.6.3->tensorboard<2.14,>=2.13->tensorflow) (0.5.0)\n",
      "Requirement already satisfied: oauthlib>=3.0.0 in /Users/admin/.pyenv/versions/3.11.0/lib/python3.11/site-packages (from requests-oauthlib>=0.7.0->google-auth-oauthlib<1.1,>=0.5->tensorboard<2.14,>=2.13->tensorflow) (3.2.2)\n",
      "\n",
      "\u001b[1m[\u001b[0m\u001b[34;49mnotice\u001b[0m\u001b[1;39;49m]\u001b[0m\u001b[39;49m A new release of pip is available: \u001b[0m\u001b[31;49m23.1.2\u001b[0m\u001b[39;49m -> \u001b[0m\u001b[32;49m23.2.1\u001b[0m\n",
      "\u001b[1m[\u001b[0m\u001b[34;49mnotice\u001b[0m\u001b[1;39;49m]\u001b[0m\u001b[39;49m To update, run: \u001b[0m\u001b[32;49mpip install --upgrade pip\u001b[0m\n",
      "Requirement already satisfied: tabula-py in /Users/admin/.pyenv/versions/3.11.0/lib/python3.11/site-packages (2.7.0)\n",
      "Requirement already satisfied: pandas>=0.25.3 in /Users/admin/.pyenv/versions/3.11.0/lib/python3.11/site-packages (from tabula-py) (2.0.2)\n",
      "Requirement already satisfied: numpy in /Users/admin/.pyenv/versions/3.11.0/lib/python3.11/site-packages (from tabula-py) (1.24.3)\n",
      "Requirement already satisfied: distro in /Users/admin/.pyenv/versions/3.11.0/lib/python3.11/site-packages (from tabula-py) (1.8.0)\n",
      "Requirement already satisfied: python-dateutil>=2.8.2 in /Users/admin/.pyenv/versions/3.11.0/lib/python3.11/site-packages (from pandas>=0.25.3->tabula-py) (2.8.2)\n",
      "Requirement already satisfied: pytz>=2020.1 in /Users/admin/.pyenv/versions/3.11.0/lib/python3.11/site-packages (from pandas>=0.25.3->tabula-py) (2023.3)\n",
      "Requirement already satisfied: tzdata>=2022.1 in /Users/admin/.pyenv/versions/3.11.0/lib/python3.11/site-packages (from pandas>=0.25.3->tabula-py) (2023.3)\n",
      "Requirement already satisfied: six>=1.5 in /Users/admin/.pyenv/versions/3.11.0/lib/python3.11/site-packages (from python-dateutil>=2.8.2->pandas>=0.25.3->tabula-py) (1.16.0)\n",
      "\n",
      "\u001b[1m[\u001b[0m\u001b[34;49mnotice\u001b[0m\u001b[1;39;49m]\u001b[0m\u001b[39;49m A new release of pip is available: \u001b[0m\u001b[31;49m23.1.2\u001b[0m\u001b[39;49m -> \u001b[0m\u001b[32;49m23.2.1\u001b[0m\n",
      "\u001b[1m[\u001b[0m\u001b[34;49mnotice\u001b[0m\u001b[1;39;49m]\u001b[0m\u001b[39;49m To update, run: \u001b[0m\u001b[32;49mpip install --upgrade pip\u001b[0m\n"
     ]
    }
   ],
   "source": [
    "!pip install tabulate\n",
    "!pip install tensorflow\n",
    "!pip install tabula-py\n",
    "\n"
   ]
  },
  {
   "cell_type": "code",
   "execution_count": null,
   "metadata": {},
   "outputs": [],
   "source": [
    "import pandas as pd\n",
    "import gzip\n",
    "\n",
    "from tabulate import tabulate"
   ]
  },
  {
   "cell_type": "code",
   "execution_count": 29,
   "metadata": {},
   "outputs": [],
   "source": [
    "import matplotlib.pyplot as plt\n",
    "%matplotlib inline \n",
    "\n",
    "# Set matplotlib sizes\n",
    "plt.rc('font', size=20)\n",
    "plt.rc('axes', titlesize=20)\n",
    "plt.rc('axes', labelsize=20)\n",
    "plt.rc('xtick', labelsize=20)\n",
    "plt.rc('ytick', labelsize=20)\n",
    "plt.rc('legend', fontsize=20)\n",
    "plt.rc('figure', titlesize=20)"
   ]
  },
  {
   "cell_type": "code",
   "execution_count": 34,
   "metadata": {},
   "outputs": [
    {
     "name": "stderr",
     "output_type": "stream",
     "text": [
      "2023-07-25 15:57:24.880723: I tensorflow/core/platform/cpu_feature_guard.cc:182] This TensorFlow binary is optimized to use available CPU instructions in performance-critical operations.\n",
      "To enable the following instructions: AVX2 FMA, in other operations, rebuild TensorFlow with the appropriate compiler flags.\n"
     ]
    }
   ],
   "source": [
    "\n",
    "import tensorflow as tf\n",
    "from tensorflow import keras"
   ]
  },
  {
   "cell_type": "code",
   "execution_count": 35,
   "metadata": {},
   "outputs": [],
   "source": [
    "# The random seed\n",
    "random_seed = 42\n",
    "\n",
    "# Set random seed in tensorflow\n",
    "tf.random.set_seed(random_seed)\n",
    "\n",
    "# Set random seed in numpy\n",
    "import numpy as np\n",
    "np.random.seed(random_seed)"
   ]
  },
  {
   "cell_type": "code",
   "execution_count": 26,
   "metadata": {},
   "outputs": [
    {
     "name": "stderr",
     "output_type": "stream",
     "text": [
      "/var/folders/62/zwkvsc2d3tngnd336zgb5n3m0000gn/T/ipykernel_60672/477906747.py:2: DtypeWarning: Columns (12,13) have mixed types. Specify dtype option on import or set low_memory=False.\n",
      "  data_census = pd.read_csv(f, delimiter='\\t', on_bad_lines='warn')\n"
     ]
    },
    {
     "name": "stdout",
     "output_type": "stream",
     "text": [
      "+----+------------------+----------------+--------------+-----------------+---------------+----------------------------------------+------------------+------------------+-------------------+---------------+--------------+---------------+---------------+------------------+-----------+\n",
      "|    |   CENSUS_CHAPTER |   CENSUS_TABLE |   CENSUS_ROW |   CENSUS_COLUMN | SECTOR_DESC   | SHORT_DESC                             | COMMODITY_DESC   | AGG_LEVEL_DESC   |   STATE_FIPS_CODE | STATE_ALPHA   | STATE_NAME   |   COUNTY_CODE |   COUNTY_NAME |   DOMAINCAT_DESC | VALUE     |\n",
      "+====+==================+================+==============+=================+===============+========================================+==================+==================+===================+===============+==============+===============+===============+==================+===========+\n",
      "|  0 |                1 |              1 |            1 |               1 | ECONOMICS     | FARM OPERATIONS - NUMBER OF OPERATIONS | FARM OPERATIONS  | NATIONAL         |                99 | US            | US TOTAL     |           nan |           nan |              nan | 2,042,220 |\n",
      "+----+------------------+----------------+--------------+-----------------+---------------+----------------------------------------+------------------+------------------+-------------------+---------------+--------------+---------------+---------------+------------------+-----------+\n",
      "|  1 |                1 |              1 |            1 |               1 | ECONOMICS     | FARM OPERATIONS - NUMBER OF OPERATIONS | FARM OPERATIONS  | STATE            |                 1 | AL            | ALABAMA      |           nan |           nan |              nan | 40,592    |\n",
      "+----+------------------+----------------+--------------+-----------------+---------------+----------------------------------------+------------------+------------------+-------------------+---------------+--------------+---------------+---------------+------------------+-----------+\n",
      "|  2 |                1 |              1 |            1 |               1 | ECONOMICS     | FARM OPERATIONS - NUMBER OF OPERATIONS | FARM OPERATIONS  | STATE            |                 2 | AK            | ALASKA       |           nan |           nan |              nan | 990       |\n",
      "+----+------------------+----------------+--------------+-----------------+---------------+----------------------------------------+------------------+------------------+-------------------+---------------+--------------+---------------+---------------+------------------+-----------+\n",
      "|  3 |                1 |              1 |            1 |               1 | ECONOMICS     | FARM OPERATIONS - NUMBER OF OPERATIONS | FARM OPERATIONS  | STATE            |                 4 | AZ            | ARIZONA      |           nan |           nan |              nan | 19,086    |\n",
      "+----+------------------+----------------+--------------+-----------------+---------------+----------------------------------------+------------------+------------------+-------------------+---------------+--------------+---------------+---------------+------------------+-----------+\n",
      "|  4 |                1 |              1 |            1 |               1 | ECONOMICS     | FARM OPERATIONS - NUMBER OF OPERATIONS | FARM OPERATIONS  | STATE            |                 5 | AR            | ARKANSAS     |           nan |           nan |              nan | 42,625    |\n",
      "+----+------------------+----------------+--------------+-----------------+---------------+----------------------------------------+------------------+------------------+-------------------+---------------+--------------+---------------+---------------+------------------+-----------+\n"
     ]
    }
   ],
   "source": [
    "\n",
    "\n",
    "with gzip.open('/Users/admin/Documents/case_studdy_1/2017_cdqt_data.txt.gz', 'rt') as f:\n",
    "    data_census = pd.read_csv(f, delimiter='\\t', on_bad_lines='warn')\n",
    "\n",
    "print(tabulate(data_census.head(), headers='keys', tablefmt='grid'))\n"
   ]
  },
  {
   "cell_type": "code",
   "execution_count": 38,
   "metadata": {},
   "outputs": [
    {
     "name": "stdout",
     "output_type": "stream",
     "text": [
      "+----+--------------------------------------------------------+\n",
      "|    | Contiguous U.S. Palmer Drought Severity Index (PDSI)   |\n",
      "+====+========================================================+\n",
      "|  0 | Base Period: 1901-2000                                 |\n",
      "+----+--------------------------------------------------------+\n",
      "|  1 | Missing: -99                                           |\n",
      "+----+--------------------------------------------------------+\n",
      "|  2 | Date,Value,Anomaly                                     |\n",
      "+----+--------------------------------------------------------+\n",
      "|  3 | 201701,-0.91,-1.39                                     |\n",
      "+----+--------------------------------------------------------+\n",
      "|  4 | 201702,-0.92,-1.42                                     |\n",
      "+----+--------------------------------------------------------+\n"
     ]
    }
   ],
   "source": [
    "# Specify data types for the columns (change column names and data types accordingly)\n",
    "data_types = {\n",
    "    'CENSUS_CHAPTER': int,\n",
    "    'CENSUS_TABLE': int,\n",
    "    'CENSUS_ROW': int,\n",
    "    'CENSUS_COLUMN': int,\n",
    "    'SECTOR_DESC': str,\n",
    "    'SHORT_DESC': str,\n",
    "    'COMMODITY_DESC': str,\n",
    "    'AGG_LEVEL_DESC': str,\n",
    "    'STATE_FIPS_CODE': int,\n",
    "    'STATE_ALPHA': str,\n",
    "    'STATE_NAME': str,\n",
    "    'COUNTY_CODE': float,\n",
    "    'COUNTY_NAME': str,\n",
    "    'DOMAINCAT_DESC': str,\n",
    "    'VALUE': str  # Assuming the 'VALUE' column contains numerical values in string format\n",
    "}\n",
    "\n",
    "# Read the CSV file with specified data types\n",
    "#df_drought = pd.read_csv('/Users/admin/Documents/case_studdy_1/data.csv', dtype=data_types,sep=',', skiprows=3)\n",
    "\n",
    "#df_drought.columns = ['Date', 'Value', 'Anomaly']\n",
    "\n",
    "df_drought = pd.read_csv('/Users/admin/Documents/case_studdy_1/data.csv', delimiter='\\t', dtype=data_types, low_memory=False)\n",
    "\n",
    "print(tabulate(df_drought.head(), headers='keys', tablefmt='grid'))"
   ]
  },
  {
   "cell_type": "code",
   "execution_count": null,
   "metadata": {},
   "outputs": [],
   "source": []
  },
  {
   "cell_type": "code",
   "execution_count": 24,
   "metadata": {},
   "outputs": [
    {
     "name": "stdout",
     "output_type": "stream",
     "text": [
      "+----+---------------------+-------------------+---------------+--------+--------------+-------------+------------+----------+-------------------+------------------------------------------------------------+------------------------------------------------------------+-------------------------------------------------------------------------+-------------------------------------------------------------+---------------------------------------------------------------------+-------------------------------------------------------------+----------------------------------------------------------------+------------------------------------------------------------------------+-------------------------------------------+-------------------------------------------+---------------------------------------------------+------------------------------------------------------------------+--------------------------------------------------------------------------+---------------------------------------------------------------------------+\n",
      "|    | Food product        |   Land use change |   Animal Feed |   Farm |   Processing |   Transport |   Packging |   Retail |   Total_emissions |   Eutrophying emissions per 1000kcal (gPO₄eq per 1000kcal) |   Eutrophying emissions per kilogram (gPO₄eq per kilogram) |   Eutrophying emissions per 100g protein (gPO₄eq per 100 grams protein) |   Freshwater withdrawals per 1000kcal (liters per 1000kcal) |   Freshwater withdrawals per 100g protein (liters per 100g protein) |   Freshwater withdrawals per kilogram (liters per kilogram) |   Greenhouse gas emissions per 1000kcal (kgCO₂eq per 1000kcal) |   Greenhouse gas emissions per 100g protein (kgCO₂eq per 100g protein) |   Land use per 1000kcal (m² per 1000kcal) |   Land use per kilogram (m² per kilogram) |   Land use per 100g protein (m² per 100g protein) |   Scarcity-weighted water use per kilogram (liters per kilogram) |   Scarcity-weighted water use per 100g protein (liters per 100g protein) |   Scarcity-weighted water use per 1000kcal (liters per 1000 kilocalories) |\n",
      "+====+=====================+===================+===============+========+==============+=============+============+==========+===================+============================================================+============================================================+=========================================================================+=============================================================+=====================================================================+=============================================================+================================================================+========================================================================+===========================================+===========================================+===================================================+==================================================================+==========================================================================+===========================================================================+\n",
      "|  0 | Wheat & Rye (Bread) |               0.1 |             0 |    0.8 |          0.2 |         0.1 |        0.1 |      0.1 |               1.4 |                                                  nan       |                                                     nan    |                                                               nan       |                                                     nan     |                                                             nan     |                                                       nan   |                                                     nan        |                                                              nan       |                                nan        |                                     nan   |                                         nan       |                                                            nan   |                                                                    nan   |                                                                     nan   |\n",
      "+----+---------------------+-------------------+---------------+--------+--------------+-------------+------------+----------+-------------------+------------------------------------------------------------+------------------------------------------------------------+-------------------------------------------------------------------------+-------------------------------------------------------------+---------------------------------------------------------------------+-------------------------------------------------------------+----------------------------------------------------------------+------------------------------------------------------------------------+-------------------------------------------+-------------------------------------------+---------------------------------------------------+------------------------------------------------------------------+--------------------------------------------------------------------------+---------------------------------------------------------------------------+\n",
      "|  1 | Maize (Meal)        |               0.3 |             0 |    0.5 |          0.1 |         0.1 |        0.1 |      0   |               1.1 |                                                  nan       |                                                     nan    |                                                               nan       |                                                     nan     |                                                             nan     |                                                       nan   |                                                     nan        |                                                              nan       |                                nan        |                                     nan   |                                         nan       |                                                            nan   |                                                                    nan   |                                                                     nan   |\n",
      "+----+---------------------+-------------------+---------------+--------+--------------+-------------+------------+----------+-------------------+------------------------------------------------------------+------------------------------------------------------------+-------------------------------------------------------------------------+-------------------------------------------------------------+---------------------------------------------------------------------+-------------------------------------------------------------+----------------------------------------------------------------+------------------------------------------------------------------------+-------------------------------------------+-------------------------------------------+---------------------------------------------------+------------------------------------------------------------------+--------------------------------------------------------------------------+---------------------------------------------------------------------------+\n",
      "|  2 | Barley (Beer)       |               0   |             0 |    0.2 |          0.1 |         0   |        0.5 |      0.3 |               1.1 |                                                  nan       |                                                     nan    |                                                               nan       |                                                     nan     |                                                             nan     |                                                       nan   |                                                     nan        |                                                              nan       |                                nan        |                                     nan   |                                         nan       |                                                            nan   |                                                                    nan   |                                                                     nan   |\n",
      "+----+---------------------+-------------------+---------------+--------+--------------+-------------+------------+----------+-------------------+------------------------------------------------------------+------------------------------------------------------------+-------------------------------------------------------------------------+-------------------------------------------------------------+---------------------------------------------------------------------+-------------------------------------------------------------+----------------------------------------------------------------+------------------------------------------------------------------------+-------------------------------------------+-------------------------------------------+---------------------------------------------------+------------------------------------------------------------------+--------------------------------------------------------------------------+---------------------------------------------------------------------------+\n",
      "|  3 | Oatmeal             |               0   |             0 |    1.4 |          0   |         0.1 |        0.1 |      0   |               1.6 |                                                    4.28136 |                                                      11.23 |                                                                 8.63846 |                                                     183.912 |                                                             371.077 |                                                       482.4 |                                                       0.945482 |                                                                1.90769 |                                  2.89745  |                                       7.6 |                                           5.84615 |                                                          18786.2 |                                                                  14450.9 |                                                                    7162.1 |\n",
      "+----+---------------------+-------------------+---------------+--------+--------------+-------------+------------+----------+-------------------+------------------------------------------------------------+------------------------------------------------------------+-------------------------------------------------------------------------+-------------------------------------------------------------+---------------------------------------------------------------------+-------------------------------------------------------------+----------------------------------------------------------------+------------------------------------------------------------------------+-------------------------------------------+-------------------------------------------+---------------------------------------------------+------------------------------------------------------------------+--------------------------------------------------------------------------+---------------------------------------------------------------------------+\n",
      "|  4 | Rice                |               0   |             0 |    3.6 |          0.1 |         0.1 |        0.1 |      0.1 |               4   |                                                    9.51438 |                                                      35.07 |                                                                49.3944  |                                                     609.984 |                                                            3166.76  |                                                      2248.4 |                                                       1.20727  |                                                                6.26761 |                                  0.759631 |                                       2.8 |                                           3.94366 |                                                          49576.3 |                                                                  69825.8 |                                                                   13449.9 |\n",
      "+----+---------------------+-------------------+---------------+--------+--------------+-------------+------------+----------+-------------------+------------------------------------------------------------+------------------------------------------------------------+-------------------------------------------------------------------------+-------------------------------------------------------------+---------------------------------------------------------------------+-------------------------------------------------------------+----------------------------------------------------------------+------------------------------------------------------------------------+-------------------------------------------+-------------------------------------------+---------------------------------------------------+------------------------------------------------------------------+--------------------------------------------------------------------------+---------------------------------------------------------------------------+\n"
     ]
    }
   ],
   "source": [
    "df_food = pd.read_csv('/Users/admin/Documents/case_studdy_1/Food_Production.csv')\n",
    "\n",
    "\n",
    "\n",
    "# Display the DataFrame in a nicely formatted table\n",
    "print(tabulate(df_food.head(), headers='keys', tablefmt='grid'))"
   ]
  },
  {
   "cell_type": "code",
   "execution_count": null,
   "metadata": {},
   "outputs": [],
   "source": [
    "# First, we find the heavy water products using df_food\n",
    "\n",
    "#then we find "
   ]
  },
  {
   "cell_type": "code",
   "execution_count": 77,
   "metadata": {},
   "outputs": [
    {
     "name": "stdout",
     "output_type": "stream",
     "text": [
      "+----+----------------+-----------+\n",
      "|    | State          |   TOBACCO |\n",
      "+====+================+===========+\n",
      "|  0 | Georg          |     26250 |\n",
      "+----+----------------+-----------+\n",
      "|  1 | Kentu          |    183300 |\n",
      "+----+----------------+-----------+\n",
      "|  2 | North          |    360040 |\n",
      "+----+----------------+-----------+\n",
      "|  3 | Penns          |     18990 |\n",
      "+----+----------------+-----------+\n",
      "|  4 | South Carolina |     25200 |\n",
      "+----+----------------+-----------+\n"
     ]
    }
   ],
   "source": [
    "file_path= '/Users/admin/Documents/case_studdy_1/arg_xlsx/tobacco.xlsx'\n",
    "\n",
    "df_tobacco = pd.read_excel(file_path)\n",
    "\n",
    "print(tabulate(df_tobacco.head(), headers='keys', tablefmt='grid'))"
   ]
  },
  {
   "cell_type": "code",
   "execution_count": 108,
   "metadata": {},
   "outputs": [],
   "source": [
    "import pandas as pd\n",
    "\n",
    "sweet_potato = pd.read_excel('/Users/admin/Documents/case_studdy_1/arg_xlsx/sweet potato.xlsx')\n",
    "\n",
    "\n",
    "tobacco = pd.read_excel('/Users/admin/Documents/case_studdy_1/arg_xlsx/tobacco.xlsx', dtype={'State': str, 'TOBACCO': int})\n",
    "\n",
    "canola = pd.read_excel('/Users/admin/Documents/case_studdy_1/arg_xlsx/canola.xlsx')\n",
    "\n",
    "sunflower = pd.read_excel('/Users/admin/Documents/case_studdy_1/arg_xlsx/sunflower_contd.xlsx')\n",
    "\n",
    "sugarcane = pd.read_excel('/Users/admin/Documents/case_studdy_1/arg_xlsx/sugarcane.xlsx')\n",
    "\n",
    "sugarbeet = pd.read_excel('/Users/admin/Documents/case_studdy_1/arg_xlsx/sugarbeet.xlsx')\n",
    "\n",
    "soybeans = pd.read_excel('/Users/admin/Documents/case_studdy_1/arg_xlsx/soybeans cont_d.xlsx')\n",
    "\n",
    "sorghum = pd.read_excel('/Users/admin/Documents/case_studdy_1/arg_xlsx/sorghum.xlsx')\n",
    "\n",
    "rye = pd.read_excel('/Users/admin/Documents/case_studdy_1/arg_xlsx/rye.xlsx')\n",
    "\n",
    "proso_millet = pd.read_excel('/Users/admin/Documents/case_studdy_1/arg_xlsx/proso millet.xlsx')\n",
    "\n",
    "potato = pd.read_excel('/Users/admin/Documents/case_studdy_1/arg_xlsx/potato_contd.xlsx')\n",
    "\n",
    "peanut = pd.read_excel('/Users/admin/Documents/case_studdy_1/arg_xlsx/peanut.xlsx')\n",
    "\n",
    "maple_syrup = pd.read_excel('/Users/admin/Documents/case_studdy_1/arg_xlsx/maple_syrup_taro_alaska .xlsx')\n",
    "\n",
    "lentils = pd.read_excel('/Users/admin/Documents/case_studdy_1/arg_xlsx/lentil_wrinked_seed.xlsx')\n",
    "\n",
    "flaxseed = pd.read_excel('/Users/admin/Documents/case_studdy_1/arg_xlsx/flaxseed_and_safflower.xlsx')\n",
    "\n",
    "dry_edible_beans = pd.read_excel('/Users/admin/Documents/case_studdy_1/arg_xlsx/dry edible bean.xlsx')\n",
    "\n",
    "corn = pd.read_excel('/Users/admin/Documents/case_studdy_1/arg_xlsx/Crop Production 2019 corn contd 01_10_2020.xlsx')\n",
    "\n",
    "cotton = pd.read_excel('/Users/admin/Documents/case_studdy_1/arg_xlsx/cotton_contd.xlsx')\n",
    "\n",
    "chickpea = pd.read_excel('/Users/admin/Documents/case_studdy_1/arg_xlsx/chickpea_contd.xlsx')\n",
    "\n",
    "\n",
    "\n",
    "\n",
    "\n"
   ]
  },
  {
   "cell_type": "code",
   "execution_count": 109,
   "metadata": {},
   "outputs": [
    {
     "name": "stdout",
     "output_type": "stream",
     "text": [
      "True\n",
      "Index(['State', 'SUNFLOWER'], dtype='object')\n"
     ]
    }
   ],
   "source": [
    "print('State' in sunflower.columns)\n",
    "print(sunflower.columns)\n"
   ]
  },
  {
   "cell_type": "code",
   "execution_count": 110,
   "metadata": {},
   "outputs": [],
   "source": [
    "# assuming df_list is your list of dataframes\n",
    "chickpea['State'] = chickpea['State'].str.strip()\n",
    "corn['State'] = corn['State'].str.strip()\n",
    "cotton['State'] = cotton['State'].str.strip()\n",
    "dry_edible_beans['State'] = dry_edible_beans['State'].str.strip()\n",
    "flaxseed['State'] = flaxseed['State'].str.strip()\n",
    "sunflower['State'] = sunflower['State'].str.strip()\n",
    "sugarcane['State'] = sugarcane['State'].str.strip()\n",
    "sugarbeet['State'] = sugarbeet['State'].str.strip()\n",
    "soybeans['State'] = soybeans['State'].str.strip()"
   ]
  },
  {
   "cell_type": "code",
   "execution_count": 100,
   "metadata": {},
   "outputs": [
    {
     "name": "stdout",
     "output_type": "stream",
     "text": [
      "+----+----------------+-----------+----------------+\n",
      "|    | State          |   TOBACCO |   SWEET POTATO |\n",
      "+====+================+===========+================+\n",
      "|  0 | Georg          |     26250 |            nan |\n",
      "+----+----------------+-----------+----------------+\n",
      "|  1 | Kentu          |    183300 |            nan |\n",
      "+----+----------------+-----------+----------------+\n",
      "|  2 | North Carolina |    360040 |          19690 |\n",
      "+----+----------------+-----------+----------------+\n",
      "|  3 | Penns          |     18990 |            nan |\n",
      "+----+----------------+-----------+----------------+\n",
      "|  4 | South Carolina |     25200 |            nan |\n",
      "+----+----------------+-----------+----------------+\n"
     ]
    }
   ],
   "source": [
    "merged_df = pd.merge(tobacco, sweet_potato, on='State', how='outer')\n",
    "print(tabulate(merged_df.head(), headers='keys', tablefmt='grid'))\n"
   ]
  },
  {
   "cell_type": "code",
   "execution_count": 114,
   "metadata": {},
   "outputs": [
    {
     "name": "stdout",
     "output_type": "stream",
     "text": [
      "             State   TOBACCO SWEET POTATO     Canola  SUNFLOWER  SUGARCANE  \\\n",
      "0            Georg   26250.0          NaN        NaN        NaN        NaN   \n",
      "1            Kentu  183300.0          NaN        NaN        NaN        NaN   \n",
      "2   North Carolina  360040.0        19690        NaN        NaN        NaN   \n",
      "3            Penns   18990.0          NaN        NaN        NaN        NaN   \n",
      "4   South Carolina   25200.0          NaN        NaN        NaN        NaN   \n",
      "5            Tenne   43000.0          NaN        NaN        NaN        NaN   \n",
      "6            Virgi   53381.0          NaN        NaN        NaN        NaN   \n",
      "7            Unite  710161.0        35646  3055410.0  2137750.0    33238.0   \n",
      "8            Arkan       NaN          (D)        NaN        NaN        NaN   \n",
      "9            Calif       NaN         6510        NaN    51305.0        NaN   \n",
      "10           Flori       NaN          (D)        NaN        NaN    16942.0   \n",
      "11           Louis       NaN         2185        NaN        NaN    14744.0   \n",
      "12           Missi       NaN         4930        NaN        NaN        NaN   \n",
      "13           Other       NaN         2331        NaN        NaN        NaN   \n",
      "14           Idaho       NaN          NaN    37910.0        NaN        NaN   \n",
      "15           Kansa       NaN          NaN    62040.0    84520.0        NaN   \n",
      "16           Minne       NaN          NaN    71760.0    68475.0        NaN   \n",
      "17           Monta       NaN          NaN   117820.0        NaN        NaN   \n",
      "18    North Dakota       NaN          NaN  2496000.0   704250.0        NaN   \n",
      "19           Oklah       NaN          NaN   168000.0        NaN        NaN   \n",
      "20           Orego       NaN          NaN    11160.0        NaN        NaN   \n",
      "21           Washi       NaN          NaN    90720.0        NaN        NaN   \n",
      "22           Color       NaN          NaN        NaN    86200.0        NaN   \n",
      "23           Nebra       NaN          NaN        NaN    61800.0        NaN   \n",
      "24           South       NaN          NaN        NaN  1020000.0        NaN   \n",
      "25           Texas       NaN          NaN        NaN    61200.0     1552.0   \n",
      "26           Michi       NaN          NaN        NaN        NaN        NaN   \n",
      "27           Wyomi       NaN          NaN        NaN        NaN        NaN   \n",
      "28           Alaba       NaN          NaN        NaN        NaN        NaN   \n",
      "29           Delaw       NaN          NaN        NaN        NaN        NaN   \n",
      "30           Illin       NaN          NaN        NaN        NaN        NaN   \n",
      "31           India       NaN          NaN        NaN        NaN        NaN   \n",
      "32            Iowa       NaN          NaN        NaN        NaN        NaN   \n",
      "33           Maryl       NaN          NaN        NaN        NaN        NaN   \n",
      "34           Misso       NaN          NaN        NaN        NaN        NaN   \n",
      "35           New J       NaN          NaN        NaN        NaN        NaN   \n",
      "36           New Y       NaN          NaN        NaN        NaN        NaN   \n",
      "37            Ohio       NaN          NaN        NaN        NaN        NaN   \n",
      "38    South Dakota       NaN          NaN        NaN        NaN        NaN   \n",
      "39    West Virgina       NaN          NaN        NaN        NaN        NaN   \n",
      "40           Wisco       NaN          NaN        NaN        NaN        NaN   \n",
      "41           New M       NaN          NaN        NaN        NaN        NaN   \n",
      "42           Arizo       NaN          NaN        NaN        NaN        NaN   \n",
      "43           Conne       NaN          NaN        NaN        NaN        NaN   \n",
      "44           Maine       NaN          NaN        NaN        NaN        NaN   \n",
      "45           Massa       NaN          NaN        NaN        NaN        NaN   \n",
      "46           New H       NaN          NaN        NaN        NaN        NaN   \n",
      "47           Ohio        NaN          NaN        NaN        NaN        NaN   \n",
      "48           Vermo       NaN          NaN        NaN        NaN        NaN   \n",
      "\n",
      "    SUGARBEET   SOYBEANS    RYE     PEANUT   Cotton  PROSO MILLET  \\\n",
      "0         NaN     6300.0    475  3572250.0   2225.0           NaN   \n",
      "1         NaN   102820.0    NaN        NaN      NaN           NaN   \n",
      "2         NaN    67600.0    NaN   479700.0    741.0           NaN   \n",
      "3         NaN    29040.0    (D)        NaN      NaN           NaN   \n",
      "4         NaN    14820.0    NaN   472000.0    471.0           NaN   \n",
      "5         NaN    83000.0    NaN        NaN    732.0           NaN   \n",
      "6         NaN    25960.0    NaN   119880.0    192.0           NaN   \n",
      "7     35317.0  4411633.0  10252  7115410.0  20922.5       14889.0   \n",
      "8         NaN   178500.0    NaN   153700.0   1074.0           NaN   \n",
      "9      1066.0        NaN    NaN        NaN    865.0           NaN   \n",
      "10        NaN      476.0    NaN   638250.0    155.0           NaN   \n",
      "11        NaN    67500.0    NaN        NaN    404.0           NaN   \n",
      "12        NaN   115010.0    NaN   172000.0   1351.0           NaN   \n",
      "13        NaN        NaN   8697        NaN      NaN           NaN   \n",
      "14     6507.0        NaN    NaN        NaN      NaN           NaN   \n",
      "15        NaN   191625.0    NaN        NaN    197.0           NaN   \n",
      "16    12515.0   384275.0    (D)        NaN      NaN           NaN   \n",
      "17     1396.0        NaN    NaN        NaN      NaN           NaN   \n",
      "18     6445.0   243225.0    (D)        NaN      NaN           NaN   \n",
      "19        NaN    18560.0   1080    79380.0   1020.0           NaN   \n",
      "20      334.0        NaN    NaN        NaN      NaN           NaN   \n",
      "21       87.0        NaN    NaN        NaN      NaN           NaN   \n",
      "22     1035.0        NaN    NaN        NaN      NaN       11165.0   \n",
      "23     1437.0   326025.0    NaN        NaN      NaN        2752.0   \n",
      "24        NaN        NaN    NaN        NaN      NaN           NaN   \n",
      "25        NaN     6845.0    NaN   697200.0   9296.0           NaN   \n",
      "26     3604.0    96475.0    NaN        NaN      NaN           NaN   \n",
      "27      891.0        NaN    NaN        NaN      NaN           NaN   \n",
      "28        NaN    15870.0    NaN   704450.0    808.0           NaN   \n",
      "29        NaN     8058.0    NaN        NaN      NaN           NaN   \n",
      "30        NaN   611900.0    NaN        NaN      NaN           NaN   \n",
      "31        NaN   320760.0    NaN        NaN      NaN           NaN   \n",
      "32        NaN   566580.0    NaN        NaN      NaN           NaN   \n",
      "33        NaN    25245.0    NaN        NaN      NaN           NaN   \n",
      "34        NaN   292545.0    NaN        NaN    750.0           NaN   \n",
      "35        NaN     4455.0    NaN        NaN      NaN           NaN   \n",
      "36        NaN    11925.0    NaN        NaN      NaN           NaN   \n",
      "37        NaN   251955.0    NaN        NaN      NaN           NaN   \n",
      "38        NaN   241230.0    NaN        NaN      NaN         972.0   \n",
      "39        NaN     1404.0    NaN        NaN      NaN           NaN   \n",
      "40        NaN   101650.0    (D)        NaN      NaN           NaN   \n",
      "41        NaN        NaN    NaN    26600.0    126.3           NaN   \n",
      "42        NaN        NaN    NaN        NaN    515.2           NaN   \n",
      "43        NaN        NaN    NaN        NaN      NaN           NaN   \n",
      "44        NaN        NaN    NaN        NaN      NaN           NaN   \n",
      "45        NaN        NaN    NaN        NaN      NaN           NaN   \n",
      "46        NaN        NaN    NaN        NaN      NaN           NaN   \n",
      "47        NaN        NaN    NaN        NaN      NaN           NaN   \n",
      "48        NaN        NaN    NaN        NaN      NaN           NaN   \n",
      "\n",
      "    MAPLE SYRUP  Dry Edible Beans  Flaxseed  LENTIL Chickpea  \n",
      "0           NaN               NaN       NaN     NaN      NaN  \n",
      "1           NaN               NaN       NaN     NaN      NaN  \n",
      "2           NaN               NaN       NaN     NaN      NaN  \n",
      "3         165.0               NaN       NaN     NaN      NaN  \n",
      "4           NaN               NaN       NaN     NaN      NaN  \n",
      "5           NaN               NaN       NaN     NaN      NaN  \n",
      "6           NaN               NaN       NaN     NaN      NaN  \n",
      "7        4385.0           35961.0    3842.0  7482.0     7057  \n",
      "8           NaN               NaN       NaN     NaN      NaN  \n",
      "9           NaN            1045.0       NaN     NaN      326  \n",
      "10          NaN               NaN       NaN     NaN      NaN  \n",
      "11          NaN               NaN       NaN     NaN      NaN  \n",
      "12          NaN               NaN       NaN     NaN      NaN  \n",
      "13          NaN               NaN       NaN     NaN      103  \n",
      "14          NaN            2873.0       NaN   315.0     1301  \n",
      "15          NaN               NaN       NaN     NaN      NaN  \n",
      "16         17.0            3567.0       NaN     NaN      (D)  \n",
      "17          NaN            2643.0     342.0  4355.0     2493  \n",
      "18          NaN           12392.0    3435.0  2175.0      532  \n",
      "19          NaN               NaN       NaN     NaN      NaN  \n",
      "20          NaN               NaN       NaN     NaN      NaN  \n",
      "21          NaN            2901.0       NaN   637.0     2302  \n",
      "22          NaN            1092.0       NaN     NaN      (D)  \n",
      "23          NaN            3901.0       NaN     NaN      (D)  \n",
      "24          NaN               NaN       NaN     NaN      NaN  \n",
      "25          NaN             220.0       NaN     NaN        -  \n",
      "26        150.0            4394.0       NaN     NaN        -  \n",
      "27          NaN             933.0       NaN     NaN      (D)  \n",
      "28          NaN               NaN       NaN     NaN      NaN  \n",
      "29          NaN               NaN       NaN     NaN      NaN  \n",
      "30          NaN               NaN       NaN     NaN      NaN  \n",
      "31         14.0               NaN       NaN     NaN      NaN  \n",
      "32          NaN               NaN       NaN     NaN      NaN  \n",
      "33          NaN               NaN       NaN     NaN      NaN  \n",
      "34          NaN               NaN       NaN     NaN      NaN  \n",
      "35          NaN               NaN       NaN     NaN      NaN  \n",
      "36        760.0               NaN       NaN     NaN      NaN  \n",
      "37          NaN               NaN       NaN     NaN      NaN  \n",
      "38          NaN               NaN      65.0     NaN      NaN  \n",
      "39         11.0               NaN       NaN     NaN      NaN  \n",
      "40        207.0               NaN       NaN     NaN      NaN  \n",
      "41          NaN               NaN       NaN     NaN      NaN  \n",
      "42          NaN               NaN       NaN     NaN      NaN  \n",
      "43         18.0               NaN       NaN     NaN      NaN  \n",
      "44        715.0               NaN       NaN     NaN      NaN  \n",
      "45         84.0               NaN       NaN     NaN      NaN  \n",
      "46        160.0               NaN       NaN     NaN      NaN  \n",
      "47         84.0               NaN       NaN     NaN      NaN  \n",
      "48       2000.0               NaN       NaN     NaN      NaN  \n"
     ]
    }
   ],
   "source": [
    "df_list = [tobacco, sweet_potato, canola, sunflower, sugarcane, sugarbeet, soybeans, rye, peanut, cotton, proso_millet, maple_syrup, dry_edible_beans, flaxseed,lentils, chickpea]  # replace with your actual dataframes\n",
    "\n",
    "merged_df = df_list[0]  # start with the first dataframe\n",
    "\n",
    "for df in df_list[1:]:  # for each of the remaining dataframes\n",
    "    merged_df = pd.merge(merged_df, df, on='State', how='outer')\n",
    "\n",
    "print(merged_df)"
   ]
  },
  {
   "cell_type": "markdown",
   "metadata": {},
   "source": [
    "### Drought Dataset"
   ]
  },
  {
   "cell_type": "code",
   "execution_count": 118,
   "metadata": {},
   "outputs": [
    {
     "name": "stdout",
     "output_type": "stream",
     "text": [
      "  StateAbbreviation       MapDate       None         D0         D1         D2  \\\n",
      "0                AK  2.017048e+07  82.057358  17.942642   1.100943   0.000000   \n",
      "1                AL  2.017048e+07  61.694151  38.305849  20.634717   9.433208   \n",
      "2                AR  2.017048e+07  54.102453  45.897547  27.718679  11.990566   \n",
      "3                AZ  2.017048e+07  44.681509  55.318491  27.258868   0.921887   \n",
      "4                CA  2.017048e+07  68.445283  31.554717  15.428868   5.724717   \n",
      "\n",
      "         D3        D4  StatisticFormatID         Year  \n",
      "0  0.000000  0.000000                1.0  2016.981132  \n",
      "1  2.844528  0.361887                1.0  2016.981132  \n",
      "2  2.547358  0.000000                1.0  2016.981132  \n",
      "3  0.000000  0.000000                1.0  2016.981132  \n",
      "4  2.572830  0.771321                1.0  2016.981132  \n"
     ]
    }
   ],
   "source": [
    "import pandas as pd\n",
    "\n",
    "# Read the data\n",
    "df = pd.read_csv('/Users/admin/Documents/case_studdy_1/dm_export_20170101_20171231.csv')\n",
    "\n",
    "# Convert MapDate to datetime and extract the year\n",
    "df['Year'] = pd.to_datetime(df['MapDate'], format='%Y%m%d').dt.year\n",
    "\n",
    "# Select numeric columns\n",
    "numeric_columns = df.select_dtypes(include=[np.number]).columns.tolist()\n",
    "\n",
    "# Calculate the mean value for each state and year\n",
    "yearly_data = df.groupby(['StateAbbreviation'])[numeric_columns].mean().reset_index()\n",
    "\n",
    "# If you want the maximum value instead of the mean, you can replace `.mean()` with `.max()`\n",
    "print(yearly_data.head())"
   ]
  },
  {
   "cell_type": "code",
   "execution_count": 121,
   "metadata": {},
   "outputs": [
    {
     "name": "stdout",
     "output_type": "stream",
     "text": [
      "+----+---------------------+-------------+---------+------------------+--------------------+------------------+-------------------+-----------------------+---------------------+---------+\n",
      "|    | StateAbbreviation   |     MapDate |    None |   Abnormally Dry |   Moderate Drought |   Severe Drought |   Extreme Drought |   Exceptional Drought |   StatisticFormatID |    Year |\n",
      "+====+=====================+=============+=========+==================+====================+==================+===================+=======================+=====================+=========+\n",
      "|  0 | AK                  | 2.01705e+07 | 82.0574 |          17.9426 |            1.10094 |         0        |           0       |              0        |                   1 | 2016.98 |\n",
      "+----+---------------------+-------------+---------+------------------+--------------------+------------------+-------------------+-----------------------+---------------------+---------+\n",
      "|  1 | AL                  | 2.01705e+07 | 61.6942 |          38.3058 |           20.6347  |         9.43321  |           2.84453 |              0.361887 |                   1 | 2016.98 |\n",
      "+----+---------------------+-------------+---------+------------------+--------------------+------------------+-------------------+-----------------------+---------------------+---------+\n",
      "|  2 | AR                  | 2.01705e+07 | 54.1025 |          45.8975 |           27.7187  |        11.9906   |           2.54736 |              0        |                   1 | 2016.98 |\n",
      "+----+---------------------+-------------+---------+------------------+--------------------+------------------+-------------------+-----------------------+---------------------+---------+\n",
      "|  3 | AZ                  | 2.01705e+07 | 44.6815 |          55.3185 |           27.2589  |         0.921887 |           0       |              0        |                   1 | 2016.98 |\n",
      "+----+---------------------+-------------+---------+------------------+--------------------+------------------+-------------------+-----------------------+---------------------+---------+\n",
      "|  4 | CA                  | 2.01705e+07 | 68.4453 |          31.5547 |           15.4289  |         5.72472  |           2.57283 |              0.771321 |                   1 | 2016.98 |\n",
      "+----+---------------------+-------------+---------+------------------+--------------------+------------------+-------------------+-----------------------+---------------------+---------+\n"
     ]
    }
   ],
   "source": [
    "# Define a dictionary that maps old column names to new ones\n",
    "column_names = {\n",
    "    'D0': 'Abnormally Dry',\n",
    "    'D1': 'Moderate Drought',\n",
    "    'D2': 'Severe Drought',\n",
    "    'D3': 'Extreme Drought',\n",
    "    'D4': 'Exceptional Drought'\n",
    "}\n",
    "\n",
    "# Rename the columns\n",
    "df_drought = yearly_data.rename(columns=column_names)\n",
    "\n",
    "df_drought_new = df_drought.copy()\n",
    "df_drought_new = df_drought_new.rename(columns=column_names)\n",
    "\n",
    "print(tabulate(df_drought_new.head(), headers='keys', tablefmt='grid'))\n"
   ]
  }
 ],
 "metadata": {
  "kernelspec": {
   "display_name": "Python 3",
   "language": "python",
   "name": "python3"
  },
  "language_info": {
   "codemirror_mode": {
    "name": "ipython",
    "version": 3
   },
   "file_extension": ".py",
   "mimetype": "text/x-python",
   "name": "python",
   "nbconvert_exporter": "python",
   "pygments_lexer": "ipython3",
   "version": "3.11.0"
  },
  "orig_nbformat": 4
 },
 "nbformat": 4,
 "nbformat_minor": 2
}
